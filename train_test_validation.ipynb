{
 "cells": [
  {
   "cell_type": "code",
   "execution_count": 1,
   "id": "b9bb0796-cc1e-469f-94f4-6544858a0242",
   "metadata": {},
   "outputs": [
    {
     "name": "stdout",
     "output_type": "stream",
     "text": [
      "Copie des fichiers terminée.\n"
     ]
    }
   ],
   "source": [
    "import os\n",
    "import shutil\n",
    "\n",
    "# Dossier contenant les fichiers d'entrée\n",
    "input_folder = \"clips\"  # Remplacez par le chemin de votre dossier\n",
    "\n",
    "# Dossiers de sortie\n",
    "output_train = \"train\"\n",
    "output_validation = \"validation\"\n",
    "output_test = \"test\"\n",
    "\n",
    "# Créer les dossiers de sortie s'ils n'existent pas\n",
    "os.makedirs(output_train, exist_ok=True)\n",
    "os.makedirs(output_validation, exist_ok=True)\n",
    "os.makedirs(output_test, exist_ok=True)\n",
    "\n",
    "# Parcourir tous les fichiers dans le dossier source\n",
    "for file_name in os.listdir(input_folder):\n",
    "    if file_name.endswith(\".mp3\") and \"_\" in file_name:  # Vérifier que c'est un MP3 avec \"_\"\n",
    "        try:\n",
    "            # Extraire le numéro à la fin du nom\n",
    "            parts = file_name.split(\"_\")  # Découper par \"_\"\n",
    "            number_part = parts[-1]  # La dernière partie contient le numéro avec l'extension\n",
    "            number = int(os.path.splitext(number_part)[0])  # Supprimer l'extension et convertir en entier\n",
    "\n",
    "            # Classer les fichiers dans les dossiers appropriés\n",
    "            source_path = os.path.join(input_folder, file_name)\n",
    "            if 1 <= number <= 40:\n",
    "                shutil.copy(source_path, os.path.join(output_train, file_name))\n",
    "            elif 41 <= number <= 45:\n",
    "                shutil.copy(source_path, os.path.join(output_validation, file_name))\n",
    "            elif 46 <= number <= 50:\n",
    "                shutil.copy(source_path, os.path.join(output_test, file_name))\n",
    "        except ValueError:\n",
    "            print(f\"Le fichier '{file_name}' ne contient pas un numéro valide.\")\n",
    "print(\"Copie des fichiers terminée.\")\n"
   ]
  },
  {
   "cell_type": "code",
   "execution_count": null,
   "id": "667f55e6-47e5-4cf2-86f9-1e47e981e9c4",
   "metadata": {},
   "outputs": [],
   "source": []
  }
 ],
 "metadata": {
  "kernelspec": {
   "display_name": "Python 3 (ipykernel)",
   "language": "python",
   "name": "python3"
  },
  "language_info": {
   "codemirror_mode": {
    "name": "ipython",
    "version": 3
   },
   "file_extension": ".py",
   "mimetype": "text/x-python",
   "name": "python",
   "nbconvert_exporter": "python",
   "pygments_lexer": "ipython3",
   "version": "3.11.6"
  }
 },
 "nbformat": 4,
 "nbformat_minor": 5
}
